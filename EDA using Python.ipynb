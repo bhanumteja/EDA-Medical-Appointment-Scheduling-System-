{
 "cells": [
  {
   "cell_type": "markdown",
   "metadata": {
    "papermill": {
     "duration": 0.005213,
     "end_time": "2024-12-06T16:35:40.611094",
     "exception": false,
     "start_time": "2024-12-06T16:35:40.605881",
     "status": "completed"
    },
    "tags": []
   },
   "source": [
    "# **Exploratory Data Analysis of Medical Appointment System Dataset**"
   ]
  },
  {
   "cell_type": "code",
   "execution_count": null,
   "metadata": {
    "id": "i5CfxVGHCSNA",
    "papermill": {
     "duration": 0.802467,
     "end_time": "2024-12-06T16:35:41.418258",
     "exception": false,
     "start_time": "2024-12-06T16:35:40.615791",
     "status": "completed"
    },
    "tags": []
   },
   "outputs": [],
   "source": [
    "# Import neccesary libraries\n",
    "import numpy as np\n",
    "import pandas as pd\n",
    "import matplotlib.pyplot as plt\n",
    "import matplotlib.patches as patches\n",
    "from datetime import datetime, timedelta, date, time"
   ]
  },
  {
   "cell_type": "code",
   "execution_count": null,
   "metadata": {
    "id": "12DdU_6O57Q0",
    "papermill": {
     "duration": 1.33711,
     "end_time": "2024-12-06T16:35:42.763036",
     "exception": false,
     "start_time": "2024-12-06T16:35:41.425926",
     "status": "completed"
    },
    "tags": []
   },
   "outputs": [],
   "source": [
    "!wget -q https://raw.githubusercontent.com/carogaltier/EDA-Medical-appointment-system/refs/heads/main/plot_functions.py\n",
    "\n",
    "from plot_functions import *"
   ]
  },
  {
   "cell_type": "code",
   "execution_count": null,
   "metadata": {
    "id": "79Xw3sytEv3P",
    "outputId": "68ed0d86-665b-487b-a1df-35234a8ac1ab",
    "papermill": {
     "duration": 0.646556,
     "end_time": "2024-12-06T16:35:43.414435",
     "exception": false,
     "start_time": "2024-12-06T16:35:42.767879",
     "status": "completed"
    },
    "tags": []
   },
   "outputs": [],
   "source": [
    "# Import dataframes\n",
    "\n",
    "import pandas as pd\n",
    "appointments = pd.read_csv('appointments (1).csv')\n",
    "patients = pd.read_csv('patients (1).csv')\n",
    "slots_df = pd.read_csv('slots (1).csv')"
   ]
  },
  {
   "cell_type": "code",
   "execution_count": null,
   "metadata": {
    "id": "-rzOyoCwFFRB",
    "outputId": "24353955-46a3-47f0-c208-f3a7af15ccf9",
    "papermill": {
     "duration": 0.026878,
     "end_time": "2024-12-06T16:35:43.455397",
     "exception": false,
     "start_time": "2024-12-06T16:35:43.428519",
     "status": "completed"
    },
    "tags": []
   },
   "outputs": [],
   "source": [
    "slots_df.head()"
   ]
  },
  {
   "cell_type": "code",
   "execution_count": null,
   "metadata": {
    "id": "fw5Bmnyze0eI",
    "outputId": "c268bc4e-23df-4f90-b058-0b8d571b001f",
    "papermill": {
     "duration": 0.056386,
     "end_time": "2024-12-06T16:35:43.526621",
     "exception": false,
     "start_time": "2024-12-06T16:35:43.470235",
     "status": "completed"
    },
    "tags": []
   },
   "outputs": [],
   "source": [
    "metrics = calculate_slot_metrics(slots_df)\n",
    "for key, value in metrics.items():\n",
    "    print(f\"{key}: {value}\")"
   ]
  },
  {
   "cell_type": "code",
   "execution_count": null,
   "metadata": {
    "id": "az38KrM-YnMx",
    "outputId": "a6993941-38c4-4c55-f397-5c5edd18a274",
    "papermill": {
     "duration": 0.437545,
     "end_time": "2024-12-06T16:35:43.969283",
     "exception": false,
     "start_time": "2024-12-06T16:35:43.531738",
     "status": "completed"
    },
    "tags": []
   },
   "outputs": [],
   "source": [
    "plot_slots_availability(slots_df)"
   ]
  },
  {
   "cell_type": "code",
   "execution_count": null,
   "metadata": {
    "id": "xf7QgRBeFGGB",
    "outputId": "ce234cad-f555-4ea2-8556-ef6654a10a74",
    "papermill": {
     "duration": 0.019037,
     "end_time": "2024-12-06T16:35:44.004711",
     "exception": false,
     "start_time": "2024-12-06T16:35:43.985674",
     "status": "completed"
    },
    "tags": []
   },
   "outputs": [],
   "source": [
    "patients_df.head()"
   ]
  },
  {
   "cell_type": "code",
   "execution_count": null,
   "metadata": {
    "id": "wqGuXA_DEE3L",
    "outputId": "246d5eab-23a2-4226-b0c5-2196e07f0f2c",
    "papermill": {
     "duration": 0.367479,
     "end_time": "2024-12-06T16:35:44.377885",
     "exception": false,
     "start_time": "2024-12-06T16:35:44.010406",
     "status": "completed"
    },
    "tags": []
   },
   "outputs": [],
   "source": [
    "plot_population_pyramid(appointments_df)"
   ]
  },
  {
   "cell_type": "code",
   "execution_count": null,
   "metadata": {
    "id": "VRgGTFy6EGz0",
    "outputId": "7846f8b2-1add-4896-93f3-bf63b244f5a7",
    "papermill": {
     "duration": 0.206276,
     "end_time": "2024-12-06T16:35:44.59132",
     "exception": false,
     "start_time": "2024-12-06T16:35:44.385044",
     "status": "completed"
    },
    "tags": []
   },
   "outputs": [],
   "source": [
    "plot_insurance_distribution(patients_df)"
   ]
  },
  {
   "cell_type": "code",
   "execution_count": null,
   "metadata": {
    "id": "YclCHKPmFH9K",
    "outputId": "a30b42c9-74a3-4ea1-f6bb-8736c46cf4fe",
    "papermill": {
     "duration": 0.026471,
     "end_time": "2024-12-06T16:35:44.658238",
     "exception": false,
     "start_time": "2024-12-06T16:35:44.631767",
     "status": "completed"
    },
    "tags": []
   },
   "outputs": [],
   "source": [
    "appointments_df.head()"
   ]
  },
  {
   "cell_type": "code",
   "execution_count": null,
   "metadata": {
    "id": "FMIdP1Gasmpx",
    "outputId": "ceacb4bf-5ff5-4701-e6fb-c44c6b29d798",
    "papermill": {
     "duration": 0.241575,
     "end_time": "2024-12-06T16:35:44.907412",
     "exception": false,
     "start_time": "2024-12-06T16:35:44.665837",
     "status": "completed"
    },
    "tags": []
   },
   "outputs": [],
   "source": [
    "plot_patients_visits(appointments_df)"
   ]
  },
  {
   "cell_type": "code",
   "execution_count": null,
   "metadata": {
    "id": "rTVu6qvophEs",
    "outputId": "d7bad6db-d889-439b-86bc-3dd456ebb6a6",
    "papermill": {
     "duration": 0.212647,
     "end_time": "2024-12-06T16:35:45.128609",
     "exception": false,
     "start_time": "2024-12-06T16:35:44.915962",
     "status": "completed"
    },
    "tags": []
   },
   "outputs": [],
   "source": [
    "plot_appointments_by_status(appointments_df)"
   ]
  },
  {
   "cell_type": "code",
   "execution_count": null,
   "metadata": {
    "id": "aAvhpBJtnoS-",
    "outputId": "9855982e-26cf-455c-a9fa-a576b1273ac4",
    "papermill": {
     "duration": 0.529906,
     "end_time": "2024-12-06T16:35:45.667269",
     "exception": false,
     "start_time": "2024-12-06T16:35:45.137363",
     "status": "completed"
    },
    "tags": []
   },
   "outputs": [],
   "source": [
    "plot_status_distribution_last_30_days(appointments_df)"
   ]
  },
  {
   "cell_type": "code",
   "execution_count": null,
   "metadata": {
    "id": "wI6mnc0f6Y0o",
    "outputId": "b2b761b1-2c90-42f2-e9f0-017550a1e601",
    "papermill": {
     "duration": 0.259955,
     "end_time": "2024-12-06T16:35:45.937329",
     "exception": false,
     "start_time": "2024-12-06T16:35:45.677374",
     "status": "completed"
    },
    "tags": []
   },
   "outputs": [],
   "source": [
    "plot_appointments_by_status_future(appointments_df)"
   ]
  },
  {
   "cell_type": "code",
   "execution_count": null,
   "metadata": {
    "id": "kRxDlChBsdIj",
    "outputId": "b0715262-50e6-47e1-d3f5-0a1f0a800945",
    "papermill": {
     "duration": 0.462932,
     "end_time": "2024-12-06T16:35:46.411142",
     "exception": false,
     "start_time": "2024-12-06T16:35:45.94821",
     "status": "completed"
    },
    "tags": []
   },
   "outputs": [],
   "source": [
    "plot_status_distribution_next_30_days(appointments_df)"
   ]
  },
  {
   "cell_type": "code",
   "execution_count": null,
   "metadata": {
    "id": "-uhBFYIPqMcy",
    "outputId": "4a847903-f4e8-4c9d-ddcd-f0007d436b92",
    "papermill": {
     "duration": 0.37597,
     "end_time": "2024-12-06T16:35:46.798496",
     "exception": false,
     "start_time": "2024-12-06T16:35:46.422526",
     "status": "completed"
    },
    "tags": []
   },
   "outputs": [],
   "source": [
    "plot_scheduling_interval_distribution(appointments_df)"
   ]
  },
  {
   "cell_type": "code",
   "execution_count": null,
   "metadata": {
    "id": "vy8ONGHA3QDL",
    "outputId": "830d1ed0-c860-47de-8ece-7004a0d224ad",
    "papermill": {
     "duration": 0.536925,
     "end_time": "2024-12-06T16:35:47.347171",
     "exception": false,
     "start_time": "2024-12-06T16:35:46.810246",
     "status": "completed"
    },
    "tags": []
   },
   "outputs": [],
   "source": [
    "plot_arrival_time_distribution(appointments_df)"
   ]
  },
  {
   "cell_type": "code",
   "execution_count": null,
   "metadata": {
    "id": "BuGly8mcgw1Q",
    "outputId": "22709152-03ee-4202-9e9f-845e05161b40",
    "papermill": {
     "duration": 0.318561,
     "end_time": "2024-12-06T16:35:47.678624",
     "exception": false,
     "start_time": "2024-12-06T16:35:47.360063",
     "status": "completed"
    },
    "tags": []
   },
   "outputs": [],
   "source": [
    "plot_waiting_time_distribution(appointments_df)"
   ]
  },
  {
   "cell_type": "code",
   "execution_count": null,
   "metadata": {
    "id": "hFJWhaiOn6ws",
    "outputId": "df817059-a90b-4893-989e-f16f518df534",
    "papermill": {
     "duration": 0.287467,
     "end_time": "2024-12-06T16:35:47.980315",
     "exception": false,
     "start_time": "2024-12-06T16:35:47.692848",
     "status": "completed"
    },
    "tags": []
   },
   "outputs": [],
   "source": [
    "plot_appointment_duration_distribution(appointments_df)"
   ]
  }
 ],
 "metadata": {
  "colab": {
   "provenance": []
  },
  "kaggle": {
   "accelerator": "none",
   "dataSources": [
    {
     "datasetId": 6223900,
     "sourceId": 10092987,
     "sourceType": "datasetVersion"
    }
   ],
   "dockerImageVersionId": 30804,
   "isGpuEnabled": false,
   "isInternetEnabled": false,
   "language": "python",
   "sourceType": "notebook"
  },
  "kernelspec": {
   "display_name": "Python 3 (ipykernel)",
   "language": "python",
   "name": "python3"
  },
  "language_info": {
   "codemirror_mode": {
    "name": "ipython",
    "version": 3
   },
   "file_extension": ".py",
   "mimetype": "text/x-python",
   "name": "python",
   "nbconvert_exporter": "python",
   "pygments_lexer": "ipython3",
   "version": "3.12.7"
  },
  "papermill": {
   "default_parameters": {},
   "duration": 10.347731,
   "end_time": "2024-12-06T16:35:48.515697",
   "environment_variables": {},
   "exception": null,
   "input_path": "__notebook__.ipynb",
   "output_path": "__notebook__.ipynb",
   "parameters": {},
   "start_time": "2024-12-06T16:35:38.167966",
   "version": "2.6.0"
  }
 },
 "nbformat": 4,
 "nbformat_minor": 4
}
